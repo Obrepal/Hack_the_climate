{
 "cells": [
  {
   "cell_type": "code",
   "execution_count": 32,
   "metadata": {},
   "outputs": [
    {
     "name": "stdout",
     "output_type": "stream",
     "text": [
      "Overwriting app.py\n"
     ]
    }
   ],
   "source": [
    "%%writefile app.py\n",
    "import streamlit as st\n",
    "import pandas as pd\n",
    "import plotly.express as px\n",
    "\n",
    "\n",
    "\n",
    "\n",
    "def value_of_tree(species, condition, size):\n",
    "    return 5*3*size\n",
    "\n",
    "def main():\n",
    "\n",
    "    # Set page config to wide layout\n",
    "    st.set_page_config(layout=\"wide\")\n",
    "    # Set the background image\n",
    "    # bg_img = '''\n",
    "    # <style>\n",
    "    # [data-testid=\"stAppViewContainer\"] {\n",
    "    # background-image: url('https://images.unsplash.com/photo-1520262494112-9fe481d36ec3?q=80&w=3087&auto=format&fit=crop&ixlib=rb-4.0.3&ixid=M3wxMjA3fDB8MHxwaG90by1wYWdlfHx8fGVufDB8fHx8fA%3D%3D');\n",
    "    # background-size: cover;\n",
    "    # background-repeat: no-repeat;\n",
    "    # # opacity: 0.1; /* Adjust the opacity value (0.0 to 1.0) */\n",
    "    # }\n",
    "    # </style>\n",
    "    # '''\n",
    "    # st.markdown(bg_img, unsafe_allow_html=True)\n",
    "    tree_data = {'species': [\"Dąb\", \"Klon\", \"Sosna\", \"Brzoza\"],  \"condition\" : [\"good\", \"bad\", \"dying\", \"amazing\"]}\n",
    "\n",
    "    trees_df = pd.DataFrame(data=tree_data)\n",
    "    \n",
    "  \n",
    "    st.markdown(\"<h1 style='text-align: center; color: Black;background-color:#4B5320'>Arboris Capitalis</h1>\", unsafe_allow_html=True)\n",
    "    # st.markdown(\"<h3 style='text-align: center; color: Black;'>Drop in The required Inputs and we will do  the rest.</h3>\", unsafe_allow_html=True)\n",
    "\n",
    "    # st.markdown(\"<h4 style='text-align: center; color: Black;'>Submission for The Python Week</h4>\",\n",
    "    #             unsafe_allow_html=True)\n",
    "    st.text(\"Welcome to Arboris Capitalis - your source of knowledge about the value of trees! Discover ecological and economic benefits by understanding the impact of trees on our \\nenvironment. Learn how trees shape our worldand why their conservation is crucial for the future of our planet.\")\n",
    "    st.header(\"Tell us about your tree: \")\n",
    "\n",
    "\n",
    "    selected_species = st.multiselect(\"Tree Species\", trees_df['species'].unique().tolist())\n",
    "    selected_condition = st.radio(\"Tree condition\", trees_df['condition'].unique().tolist())\n",
    "    selected_size = st.slider(\"Trunk size in cm\", 50, 500)\n",
    "\n",
    "    value_t = value_of_tree(selected_species,selected_condition,selected_size)\n",
    "\n",
    "    st.markdown(f\"\"\"\n",
    "    #### <span style=\"color:blue\"></span> Value of your tree {value_t} \"\"\",unsafe_allow_html=True)  \n",
    "    \n",
    "    # fig = px.bar(filtered_df, x=\"HighestInterest\", y=\"MaxPLN\", color=\"Bank\",color_discrete_map=c, title = 'Indiviudal clients')\n",
    "\n",
    "if __name__ == '__main__':\n",
    "        main()"
   ]
  },
  {
   "cell_type": "code",
   "execution_count": null,
   "metadata": {},
   "outputs": [],
   "source": []
  },
  {
   "cell_type": "code",
   "execution_count": null,
   "metadata": {},
   "outputs": [],
   "source": []
  }
 ],
 "metadata": {
  "kernelspec": {
   "display_name": "hack_the_climate",
   "language": "python",
   "name": "python3"
  },
  "language_info": {
   "codemirror_mode": {
    "name": "ipython",
    "version": 3
   },
   "file_extension": ".py",
   "mimetype": "text/x-python",
   "name": "python",
   "nbconvert_exporter": "python",
   "pygments_lexer": "ipython3",
   "version": "3.9.18"
  }
 },
 "nbformat": 4,
 "nbformat_minor": 2
}
